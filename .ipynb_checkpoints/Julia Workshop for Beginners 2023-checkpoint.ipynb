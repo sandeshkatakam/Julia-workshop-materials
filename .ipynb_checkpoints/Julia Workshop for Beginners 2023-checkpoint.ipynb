{
 "cells": [
  {
   "cell_type": "markdown",
   "id": "af30c99b",
   "metadata": {},
   "source": [
    "# Julia Workshop for Beginners 2023 Notebook"
   ]
  },
  {
   "cell_type": "markdown",
   "id": "a7c68eb2",
   "metadata": {},
   "source": [
    "Link to the Workshop Slides: https://docs.google.com/presentation/d/1aTqP9LzPhVpkUGnW_TRletyYCC6OAIXDS4Miq9Y0nmc/edit?usp=sharing"
   ]
  },
  {
   "cell_type": "markdown",
   "id": "1acbe7f2",
   "metadata": {},
   "source": [
    "### Table of Contents:\n",
    "\n",
    "* Installing Julia on your platform\n",
    "* Adding Julia kernel to your favourite Jupyter notebook\n",
    "* Basic Commands of Julia\n",
    "* Using Package Manager\n",
    "* Plotting and Basic Functions\n",
    "* Julia for Data Analysis\n",
    "* \n"
   ]
  },
  {
   "cell_type": "markdown",
   "id": "81b7f8e2",
   "metadata": {},
   "source": [
    "## Installing Julia on your Platform"
   ]
  },
  {
   "cell_type": "markdown",
   "id": "c84daf3b",
   "metadata": {},
   "source": [
    "## Adding Julia Kernel to Jupyter Notebook"
   ]
  },
  {
   "cell_type": "code",
   "execution_count": 1,
   "id": "1268e268",
   "metadata": {},
   "outputs": [
    {
     "name": "stdout",
     "output_type": "stream",
     "text": [
      "Hello Julia workshop!!\n"
     ]
    }
   ],
   "source": [
    "println(\"Hello Julia workshop!!\")"
   ]
  },
  {
   "cell_type": "code",
   "execution_count": 2,
   "id": "8dc72ada",
   "metadata": {},
   "outputs": [
    {
     "data": {
      "text/plain": [
       "add (generic function with 1 method)"
      ]
     },
     "execution_count": 2,
     "metadata": {},
     "output_type": "execute_result"
    }
   ],
   "source": [
    "function add(x,y)\n",
    "    return x+y\n",
    "end\n"
   ]
  },
  {
   "cell_type": "code",
   "execution_count": 3,
   "id": "6c1daba0",
   "metadata": {},
   "outputs": [
    {
     "data": {
      "text/plain": [
       "5"
      ]
     },
     "execution_count": 3,
     "metadata": {},
     "output_type": "execute_result"
    }
   ],
   "source": [
    "add(2,3)"
   ]
  },
  {
   "cell_type": "markdown",
   "id": "c2ec224c",
   "metadata": {},
   "source": [
    "## Introduction to Julia REPL\n",
    "\n",
    "REPL stands for \"Read Evaluate Print and Loop\""
   ]
  },
  {
   "cell_type": "markdown",
   "id": "85a89bd6",
   "metadata": {},
   "source": [
    "## Basic Julia Commands "
   ]
  },
  {
   "cell_type": "markdown",
   "id": "d14a4b2f",
   "metadata": {},
   "source": [
    "## Julia Package Manager (The Amazing thing in Julia Universe)\n",
    "\n",
    "* Julia Package manager can be called using the \"]\" command  \n",
    "* The Package manager has the collection of packages currently in your Julia environment\n",
    "* From the REPL you can use the package manager and update the packages, remove them or install new packages to your julia env."
   ]
  },
  {
   "cell_type": "code",
   "execution_count": null,
   "id": "f8ce54fc",
   "metadata": {},
   "outputs": [],
   "source": []
  }
 ],
 "metadata": {
  "kernelspec": {
   "display_name": "Julia 1.7.3",
   "language": "julia",
   "name": "julia-1.7"
  },
  "language_info": {
   "file_extension": ".jl",
   "mimetype": "application/julia",
   "name": "julia",
   "version": "1.7.3"
  }
 },
 "nbformat": 4,
 "nbformat_minor": 5
}
