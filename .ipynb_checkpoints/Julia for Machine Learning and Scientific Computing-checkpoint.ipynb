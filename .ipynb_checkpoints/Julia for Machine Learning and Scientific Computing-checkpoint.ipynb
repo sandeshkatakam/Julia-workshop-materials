{
 "cells": [
  {
   "cell_type": "markdown",
   "id": "6fd25350",
   "metadata": {},
   "source": [
    "# Julia for Machine Learning and Scientific Computing"
   ]
  },
  {
   "cell_type": "code",
   "execution_count": null,
   "id": "38525d28",
   "metadata": {},
   "outputs": [],
   "source": [
    "using LinearAlebgra"
   ]
  }
 ],
 "metadata": {
  "kernelspec": {
   "display_name": "Python 3 (ipykernel)",
   "language": "python",
   "name": "python3"
  },
  "language_info": {
   "codemirror_mode": {
    "name": "ipython",
    "version": 3
   },
   "file_extension": ".py",
   "mimetype": "text/x-python",
   "name": "python",
   "nbconvert_exporter": "python",
   "pygments_lexer": "ipython3",
   "version": "3.9.12"
  }
 },
 "nbformat": 4,
 "nbformat_minor": 5
}
