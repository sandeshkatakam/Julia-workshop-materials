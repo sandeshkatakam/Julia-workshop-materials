{
 "cells": [
  {
   "cell_type": "markdown",
   "id": "123213f4",
   "metadata": {},
   "source": [
    "# Julia V/s Python: Benchmarking Julia against Python"
   ]
  },
  {
   "cell_type": "code",
   "execution_count": null,
   "id": "ab977ab4",
   "metadata": {},
   "outputs": [],
   "source": []
  }
 ],
 "metadata": {
  "kernelspec": {
   "display_name": "Julia 1.7.3",
   "language": "julia",
   "name": "julia-1.7"
  },
  "language_info": {
   "file_extension": ".jl",
   "mimetype": "application/julia",
   "name": "julia",
   "version": "1.7.3"
  }
 },
 "nbformat": 4,
 "nbformat_minor": 5
}
