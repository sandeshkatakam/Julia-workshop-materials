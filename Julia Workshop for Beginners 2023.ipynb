{
 "cells": [
  {
   "cell_type": "markdown",
   "id": "b5d167ce",
   "metadata": {},
   "source": [
    "# Julia Workshop for Beginners 2023 Notebook"
   ]
  },
  {
   "cell_type": "code",
   "execution_count": null,
   "id": "2188bf75",
   "metadata": {},
   "outputs": [],
   "source": []
  },
  {
   "cell_type": "markdown",
   "id": "cfe598bd",
   "metadata": {},
   "source": [
    "### Table of Contents:\n",
    "\n",
    "* Installing Julia on your platform\n",
    "* Adding Julia kernel to your favourite Jupyter notebook\n",
    "* Basic Commands of Julia\n",
    "* Using Package Manager\n",
    "* Plotting and Basic Functions\n",
    "* Julia for Data Analysis\n",
    "* \n"
   ]
  }
 ],
 "metadata": {
  "kernelspec": {
   "display_name": "Julia 1.7.3",
   "language": "julia",
   "name": "julia-1.7"
  },
  "language_info": {
   "file_extension": ".jl",
   "mimetype": "application/julia",
   "name": "julia",
   "version": "1.7.3"
  }
 },
 "nbformat": 4,
 "nbformat_minor": 5
}
